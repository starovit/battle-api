{
 "cells": [
  {
   "cell_type": "code",
   "execution_count": 44,
   "id": "a41e7ebd",
   "metadata": {},
   "outputs": [],
   "source": [
    "import requests\n",
    "basic_url = 'http://127.0.0.1:5000/run_simulation?'"
   ]
  },
  {
   "cell_type": "code",
   "execution_count": 45,
   "id": "e7364c20",
   "metadata": {},
   "outputs": [
    {
     "name": "stdout",
     "output_type": "stream",
     "text": [
      "{\"Allies health\":2783,\"Enemies health\":0,\"Number of allies alive\":41.0,\"Number of enemies alive\":0.0}\n",
      "\n"
     ]
    }
   ],
   "source": [
    "response = requests.get(basic_url+\"n_soldiers=50&n_medics=0&n_mines=1\")\n",
    "print(response.text)"
   ]
  },
  {
   "cell_type": "code",
   "execution_count": null,
   "metadata": {},
   "outputs": [],
   "source": []
  }
 ],
 "metadata": {
  "kernelspec": {
   "display_name": "mesa",
   "language": "python",
   "name": "python3"
  },
  "language_info": {
   "codemirror_mode": {
    "name": "ipython",
    "version": 3
   },
   "file_extension": ".py",
   "mimetype": "text/x-python",
   "name": "python",
   "nbconvert_exporter": "python",
   "pygments_lexer": "ipython3",
   "version": "3.8.16"
  }
 },
 "nbformat": 4,
 "nbformat_minor": 5
}
